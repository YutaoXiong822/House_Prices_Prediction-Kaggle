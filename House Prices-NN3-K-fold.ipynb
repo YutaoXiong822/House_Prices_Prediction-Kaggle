{
 "cells": [
  {
   "cell_type": "code",
   "execution_count": null,
   "metadata": {},
   "outputs": [],
   "source": [
    "# https://www.kaggle.com/c/house-prices-advanced-regression-techniques/\n",
    "# 这里大部分代码参考了《动手学深度学习》课程，https://zh-v2.d2l.ai/chapter_multilayer-perceptrons/kaggle-house-price.html#id3，旨在与不使用K-fold的代码进行对比。"
   ]
  },
  {
   "cell_type": "code",
   "execution_count": 2,
   "metadata": {},
   "outputs": [],
   "source": [
    "import numpy as np\n",
    "import pandas as pd\n",
    "import matplotlib.pyplot as plt\n",
    "from tqdm import tqdm\n",
    "import torch\n",
    "from torch import nn\n",
    "from torch.utils.data import DataLoader, Dataset\n",
    "from torch.utils.tensorboard import SummaryWriter"
   ]
  },
  {
   "cell_type": "code",
   "execution_count": 3,
   "metadata": {},
   "outputs": [],
   "source": [
    "# 读取数据\n",
    "train = pd.read_csv('data/train.csv')\n",
    "test = pd.read_csv('data/test.csv')"
   ]
  },
  {
   "cell_type": "code",
   "execution_count": 4,
   "metadata": {},
   "outputs": [],
   "source": [
    "all_feature = pd.concat([train.iloc[:, 1:-1], test.iloc[:, 1:]])"
   ]
  },
  {
   "cell_type": "code",
   "execution_count": 5,
   "metadata": {},
   "outputs": [
    {
     "name": "stdout",
     "output_type": "stream",
     "text": [
      "(2919, 330)\n"
     ]
    }
   ],
   "source": [
    "# 清洗数据\n",
    "\n",
    "# 用z-score标准化数据，跳过object类\n",
    "for col in all_feature.columns:\n",
    "    if all_feature[col].dtype != 'object':\n",
    "        all_feature[col] = (all_feature[col] - all_feature[col].mean()) / all_feature[col].std()\n",
    "        all_feature[col] = all_feature[col].fillna(0)\n",
    "\n",
    "# 将所有object类的数据使用1-hot编码转化成数值\n",
    "all_feature = pd.get_dummies(all_feature, dummy_na=True, dtype=float)\n",
    "print(all_feature.shape)"
   ]
  },
  {
   "cell_type": "code",
   "execution_count": 6,
   "metadata": {},
   "outputs": [],
   "source": [
    "n_train = train.shape[0]\n",
    "train_features = torch.tensor(all_feature[:n_train].values)\n",
    "test_features = torch.tensor(all_feature[n_train:].values)\n",
    "train_labels = torch.tensor(train['SalePrice'].values.reshape(-1, 1))"
   ]
  },
  {
   "cell_type": "code",
   "execution_count": 7,
   "metadata": {},
   "outputs": [],
   "source": [
    "class HousePricesDataset(Dataset):\n",
    "    def __init__(self, features, label=None):\n",
    "        super(HousePricesDataset, self).__init__()\n",
    "        self.features = features\n",
    "        self.label = label\n",
    "    \n",
    "    def __getitem__(self, index):\n",
    "        if self.label != None:\n",
    "            return self.features[index], self.label[index]\n",
    "        else:\n",
    "            return self.features[index]\n",
    "    \n",
    "    def __len__(self):\n",
    "        return len(self.features)\n"
   ]
  },
  {
   "cell_type": "code",
   "execution_count": 8,
   "metadata": {},
   "outputs": [],
   "source": [
    "# 划分数据集\n",
    "train_dataset = HousePricesDataset(train_features, train_labels)\n",
    "train_loader = DataLoader(train_dataset, batch_size=16, shuffle=True)\n",
    "test_dataset = HousePricesDataset(test_features)\n",
    "test_loader = DataLoader(test_dataset, batch_size=16, shuffle=True)"
   ]
  },
  {
   "cell_type": "code",
   "execution_count": 9,
   "metadata": {},
   "outputs": [],
   "source": [
    "class MLP(nn.Module):\n",
    "    def __init__(self, input_size, output_size):\n",
    "        super(MLP, self).__init__()\n",
    "        self.model = nn.Sequential(nn.Linear(input_size, 256),\n",
    "                                   nn.ReLU(),\n",
    "                                   nn.Linear(256, 128),\n",
    "                                   nn.ReLU(),\n",
    "                                   nn.Linear(128, 64),\n",
    "                                   nn.ReLU(),\n",
    "                                   nn.Linear(64, output_size))\n",
    "        \n",
    "    def forward(self, x):\n",
    "        return self.model(x)"
   ]
  },
  {
   "cell_type": "code",
   "execution_count": 10,
   "metadata": {},
   "outputs": [],
   "source": [
    "# 初始化参数\n",
    "input_size = train_features.shape[1]\n",
    "output_size = 1\n",
    "batch_size = 16\n",
    "learning_rate = 0.001\n",
    "epochs = 1000\n",
    "\n",
    "# 划分数据集\n",
    "train_dataset = HousePricesDataset(train_features, train_labels)\n",
    "train_loader = DataLoader(train_dataset, batch_size=batch_size, shuffle=True)\n",
    "test_dataset = HousePricesDataset(test_features)\n",
    "test_loader = DataLoader(test_dataset, batch_size=batch_size, shuffle=True)"
   ]
  },
  {
   "cell_type": "code",
   "execution_count": null,
   "metadata": {},
   "outputs": [],
   "source": [
    "loss = nn.MSELoss()\n",
    "\n",
    "def log_rmse(net, features, labels):\n",
    "    # 为了在取对数时进一步稳定该值，将小于1的值设置为1\n",
    "    features = features.float()\n",
    "    clipped_preds = torch.clamp(net(features), 1, float('inf'))\n",
    "    rmse = torch.sqrt(loss(torch.log(clipped_preds), torch.log(labels)))\n",
    "    return rmse.item()"
   ]
  },
  {
   "cell_type": "code",
   "execution_count": null,
   "metadata": {},
   "outputs": [],
   "source": [
    "# 定义训练函数\n",
    "def train(net, train_features, train_labels, test_features, test_labels, num_epochs, learning_rate, weight_decay, batch_size):\n",
    "    # 损失函数的值\n",
    "    train_ls, test_ls = [], []\n",
    "\n",
    "    # 划分数据集\n",
    "    train_dataset = HousePricesDataset(train_features, train_labels)\n",
    "    train_loader = DataLoader(train_dataset, batch_size=batch_size, shuffle=True)\n",
    "    test_dataset = HousePricesDataset(test_features, test_labels)\n",
    "    test_loader = DataLoader(test_dataset, batch_size=batch_size, shuffle=True)\n",
    "\n",
    "    # 这里使用的是Adam优化算法\n",
    "    optimizer = torch.optim.Adam(net.parameters(), lr=learning_rate, weight_decay=weight_decay)\n",
    "    for epoch in range(num_epochs):\n",
    "        for X, y in train_loader:\n",
    "            X = X.float()\n",
    "            y = y.float()\n",
    "            optimizer.zero_grad()\n",
    "            l = loss(net(X), y)\n",
    "            l.backward()\n",
    "            optimizer.step()\n",
    "        train_ls.append(log_rmse(net, train_features, train_labels))\n",
    "        if test_labels is not None:\n",
    "            test_ls.append(log_rmse(net, test_features, test_labels))\n",
    "            \n",
    "    return train_ls, test_ls"
   ]
  },
  {
   "cell_type": "code",
   "execution_count": 36,
   "metadata": {},
   "outputs": [],
   "source": [
    "# K-交叉训练\n",
    "def get_k_fold_data(k, i, X, y):\n",
    "    assert k > 1\n",
    "    fold_size = X.shape[0] // k\n",
    "    X_train, y_train = None, None\n",
    "    for j in range(k):\n",
    "        idx = slice(j * fold_size, (j + 1) * fold_size)\n",
    "        X_part, y_part = X[idx, :], y[idx]\n",
    "        if j == i:\n",
    "            X_valid, y_valid = X_part, y_part\n",
    "        elif X_train is None:\n",
    "            X_train, y_train = X_part, y_part\n",
    "        else:\n",
    "            X_train = torch.cat([X_train, X_part], 0)\n",
    "            y_train = torch.cat([y_train, y_part], 0)\n",
    "    return X_train, y_train, X_valid, y_valid"
   ]
  },
  {
   "cell_type": "code",
   "execution_count": null,
   "metadata": {},
   "outputs": [],
   "source": [
    "def k_fold(k, X_train, y_train, num_epochs, learning_rate, weight_decay, batch_size):\n",
    "    train_l_sum, valid_l_sum = 0, 0\n",
    "    for i in range(k):\n",
    "        data = get_k_fold_data(k, i, X_train, y_train)\n",
    "        net = MLP(input_size, output_size)\n",
    "        train_ls, valid_ls = train(net, *data, num_epochs, learning_rate, weight_decay, batch_size)\n",
    "        train_l_sum += train_ls[-1]\n",
    "        valid_l_sum += valid_ls[-1]\n",
    "        if i == 0:\n",
    "            plt.plot(list(range(1, num_epochs + 1)), train_ls)\n",
    "            plt.plot(list(range(1, num_epochs + 1)), valid_ls)\n",
    "        print(f'折{i + 1}，训练log rmse{float(train_ls[-1]):f}, '\n",
    "              f'验证log rmse{float(valid_ls[-1]):f}')\n",
    "    return train_l_sum / k, valid_l_sum / k"
   ]
  },
  {
   "cell_type": "code",
   "execution_count": 45,
   "metadata": {},
   "outputs": [
    {
     "name": "stdout",
     "output_type": "stream",
     "text": [
      "折1，训练log rmse0.149412, 验证log rmse0.144200\n",
      "折2，训练log rmse0.149592, 验证log rmse0.169603\n",
      "折3，训练log rmse0.146223, 验证log rmse0.156460\n",
      "折4，训练log rmse0.149570, 验证log rmse0.143872\n",
      "折5，训练log rmse0.143893, 验证log rmse0.173991\n",
      "5-折验证: 平均训练log rmse: 0.147738, 平均验证log rmse: 0.157625\n"
     ]
    },
    {
     "data": {
      "image/png": "[encoded data removed]",
      "text/plain": [
       "<Figure size 640x480 with 1 Axes>"
      ]
     },
     "metadata": {},
     "output_type": "display_data"
    }
   ],
   "source": [
    "k, num_epochs, lr, weight_decay, batch_size = 5, 10, learning_rate, 1e-3, 16\n",
    "train_l, valid_l = k_fold(k, train_features, train_labels, num_epochs, lr,\n",
    "                          weight_decay, batch_size)\n",
    "print(f'{k}-折验证: 平均训练log rmse: {float(train_l):f}, '\n",
    "      f'平均验证log rmse: {float(valid_l):f}')"
   ]
  },
  {
   "cell_type": "code",
   "execution_count": null,
   "metadata": {},
   "outputs": [],
   "source": [
    "def train_and_pred(train_features, test_features, train_labels, test_data,\n",
    "                   num_epochs, lr, weight_decay, batch_size):\n",
    "    net = MLP(input_size, output_size)\n",
    "    train_ls, _ = train(net, train_features, train_labels, test_features, None, num_epochs, lr, weight_decay, batch_size)\n",
    "    plt.plot(np.arange(1, num_epochs + 1), train_ls)\n",
    "    print(f'训练log rmse：{float(train_ls[-1]):f}')\n",
    "    # 将网络应用于测试集。\n",
    "    preds = net(test_features.float()).detach().numpy()\n",
    "    # 将其重新格式化以导出到Kaggle\n",
    "    test_data['SalePrice'] = pd.Series(preds.reshape(1, -1)[0])\n",
    "    submission = pd.concat([test_data['Id'], test_data['SalePrice']], axis=1)\n",
    "    return submission"
   ]
  },
  {
   "cell_type": "code",
   "execution_count": 51,
   "metadata": {},
   "outputs": [
    {
     "name": "stdout",
     "output_type": "stream",
     "text": [
      "训练log rmse：0.113873\n"
     ]
    },
    {
     "data": {
      "image/png": "[encoded data removed]",
      "text/plain": [
       "<Figure size 640x480 with 1 Axes>"
      ]
     },
     "metadata": {},
     "output_type": "display_data"
    }
   ],
   "source": [
    "sub = train_and_pred(train_features, test_features, train_labels, test_data=test, num_epochs=100, lr=learning_rate, weight_decay=1e-3, batch_size=16)"
   ]
  },
  {
   "cell_type": "code",
   "execution_count": 53,
   "metadata": {},
   "outputs": [],
   "source": [
    "sub.to_csv('submission.csv', index=False)"
   ]
  },
  {
   "cell_type": "code",
   "execution_count": null,
   "metadata": {},
   "outputs": [],
   "source": [
    "# 由于数据集较小，我们使用K-fold降低过拟合风险，而没有划分成训练集和测试集，得到的结果在kaggle上分数为0.14，比之前的0.19更优"
   ]
  }
 ],
 "metadata": {
  "kernelspec": {
   "display_name": "learning_d2l",
   "language": "python",
   "name": "python3"
  },
  "language_info": {
   "codemirror_mode": {
    "name": "ipython",
    "version": 3
   },
   "file_extension": ".py",
   "mimetype": "text/x-python",
   "name": "python",
   "nbconvert_exporter": "python",
   "pygments_lexer": "ipython3",
   "version": "3.9.20"
  }
 },
 "nbformat": 4,
 "nbformat_minor": 2
}
