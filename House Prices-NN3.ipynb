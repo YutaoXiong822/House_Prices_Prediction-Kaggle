{
 "cells": [
  {
   "cell_type": "code",
   "execution_count": 1,
   "metadata": {},
   "outputs": [],
   "source": [
    "# https://www.kaggle.com/c/house-prices-advanced-regression-techniques/"
   ]
  },
  {
   "cell_type": "code",
   "execution_count": 2,
   "metadata": {},
   "outputs": [],
   "source": [
    "import numpy as np\n",
    "import pandas as pd\n",
    "import matplotlib.pyplot as plt\n",
    "from tqdm import tqdm\n",
    "import torch\n",
    "from torch import nn\n",
    "from torch.utils.data import DataLoader, Dataset\n",
    "from torch.utils.tensorboard import SummaryWriter"
   ]
  },
  {
   "cell_type": "code",
   "execution_count": 3,
   "metadata": {},
   "outputs": [],
   "source": [
    "# 读取数据\n",
    "train = pd.read_csv('data/train.csv')\n",
    "test = pd.read_csv('data/test.csv')"
   ]
  },
  {
   "cell_type": "code",
   "execution_count": 4,
   "metadata": {},
   "outputs": [],
   "source": [
    "all_feature = pd.concat([train.iloc[:, 1:-1], test.iloc[:, 1:]])"
   ]
  },
  {
   "cell_type": "code",
   "execution_count": 5,
   "metadata": {},
   "outputs": [
    {
     "name": "stdout",
     "output_type": "stream",
     "text": [
      "(2919, 330)\n"
     ]
    }
   ],
   "source": [
    "# 清洗数据\n",
    "\n",
    "# 用z-score标准化数据，跳过object类\n",
    "for col in all_feature.columns:\n",
    "    if all_feature[col].dtype != 'object':\n",
    "        all_feature[col] = (all_feature[col] - all_feature[col].mean()) / all_feature[col].std()\n",
    "        all_feature[col] = all_feature[col].fillna(0)\n",
    "\n",
    "# 将所有object类的数据使用1-hot编码转化成数值\n",
    "all_feature = pd.get_dummies(all_feature, dummy_na=True, dtype=float)\n",
    "print(all_feature.shape)"
   ]
  },
  {
   "cell_type": "code",
   "execution_count": null,
   "metadata": {},
   "outputs": [],
   "source": [
    "# 将数据集分成训练集，验证集和测试集，测试集仅用来在kaggle上提交结果\n",
    "n_train = train.shape[0]\n",
    "n_valid = n_train // 5\n",
    "n_train -= n_valid\n",
    "\n",
    "train_data = train.iloc[:n_train, :]\n",
    "valid_data = train.iloc[n_train:n_train+n_valid, :]\n",
    "train_features = torch.tensor(all_feature[:n_train].values)\n",
    "valid_features = torch.tensor(all_feature[n_train:n_train+n_valid].values)\n",
    "test_features = torch.tensor(all_feature[n_train+n_valid:].values)\n",
    "train_labels = torch.tensor(train_data['SalePrice'].values.reshape(-1, 1))\n",
    "valid_labels = torch.tensor(valid_data['SalePrice'].values.reshape(-1, 1))"
   ]
  },
  {
   "cell_type": "code",
   "execution_count": 7,
   "metadata": {},
   "outputs": [],
   "source": [
    "class HousePricesDataset(Dataset):\n",
    "    def __init__(self, features, label=None):\n",
    "        super(HousePricesDataset, self).__init__()\n",
    "        self.features = features\n",
    "        self.label = label\n",
    "    \n",
    "    def __getitem__(self, index):\n",
    "        if self.label != None:\n",
    "            return self.features[index], self.label[index]\n",
    "        else:\n",
    "            return self.features[index]\n",
    "    \n",
    "    def __len__(self):\n",
    "        return len(self.features)\n"
   ]
  },
  {
   "cell_type": "code",
   "execution_count": null,
   "metadata": {},
   "outputs": [],
   "source": [
    "# 定义三层全连接网络\n",
    "class MLP(nn.Module):\n",
    "    def __init__(self, input_size, output_size):\n",
    "        super(MLP, self).__init__()\n",
    "        self.model = nn.Sequential(nn.Linear(input_size, 256),\n",
    "                                   nn.ReLU(),\n",
    "                                   nn.Linear(256, 128),\n",
    "                                   nn.ReLU(),\n",
    "                                   nn.Linear(128, 64),\n",
    "                                   nn.ReLU(),\n",
    "                                   nn.Linear(64, output_size))\n",
    "        \n",
    "    def forward(self, x):\n",
    "        return self.model(x)"
   ]
  },
  {
   "cell_type": "code",
   "execution_count": 9,
   "metadata": {},
   "outputs": [],
   "source": [
    "# 初始化参数\n",
    "input_size = train_features.shape[1]\n",
    "output_size = 1\n",
    "bs = 16\n",
    "learning_rate = 0.001\n",
    "epochs = 500\n",
    "\n",
    "# 划分数据集\n",
    "train_dataset = HousePricesDataset(train_features, train_labels)\n",
    "train_loader = DataLoader(train_dataset, batch_size=bs, shuffle=True)\n",
    "valid_dataset = HousePricesDataset(valid_features, valid_labels)\n",
    "valid_loader = DataLoader(valid_dataset, batch_size=bs, shuffle=True)"
   ]
  },
  {
   "cell_type": "code",
   "execution_count": 10,
   "metadata": {},
   "outputs": [],
   "source": [
    "# 定义损失函数\n",
    "loss_fn = nn.MSELoss()\n",
    "\n",
    "def log_rmse(net, features, labels):\n",
    "    # 为了在取对数时进一步稳定该值，将小于1的值设置为1\n",
    "    clipped_preds = torch.clamp(net(features.float()), 1, float('inf'))\n",
    "    rmse = torch.sqrt(loss_fn(torch.log(clipped_preds), torch.log(labels)))\n",
    "    return rmse.item()"
   ]
  },
  {
   "cell_type": "code",
   "execution_count": null,
   "metadata": {},
   "outputs": [
    {
     "name": "stderr",
     "output_type": "stream",
     "text": [
      "  0%|          | 0/500 [00:00<?, ?it/s]"
     ]
    },
    {
     "name": "stdout",
     "output_type": "stream",
     "text": [
      "---1th round start---\n"
     ]
    },
    {
     "name": "stderr",
     "output_type": "stream",
     "text": [
      " 10%|█         | 52/500 [00:03<00:34, 12.93it/s]"
     ]
    },
    {
     "name": "stdout",
     "output_type": "stream",
     "text": [
      "---51th round start---\n"
     ]
    },
    {
     "name": "stderr",
     "output_type": "stream",
     "text": [
      " 14%|█▍        | 70/500 [00:05<00:32, 13.40it/s]"
     ]
    },
    {
     "name": "stdout",
     "output_type": "stream",
     "text": [
      "Step:5000, train logrmse:0.11090034246444702, valid logrmse:0.16012156009674072\n"
     ]
    },
    {
     "name": "stderr",
     "output_type": "stream",
     "text": [
      " 20%|██        | 102/500 [00:07<00:32, 12.07it/s]"
     ]
    },
    {
     "name": "stdout",
     "output_type": "stream",
     "text": [
      "---101th round start---\n"
     ]
    },
    {
     "name": "stderr",
     "output_type": "stream",
     "text": [
      " 28%|██▊       | 138/500 [00:10<00:36, 10.00it/s]"
     ]
    },
    {
     "name": "stdout",
     "output_type": "stream",
     "text": [
      "Step:10000, train logrmse:0.09872469305992126, valid logrmse:0.16051173210144043\n"
     ]
    },
    {
     "name": "stderr",
     "output_type": "stream",
     "text": [
      " 30%|███       | 151/500 [00:12<00:41,  8.50it/s]"
     ]
    },
    {
     "name": "stdout",
     "output_type": "stream",
     "text": [
      "---151th round start---\n"
     ]
    },
    {
     "name": "stderr",
     "output_type": "stream",
     "text": [
      " 40%|████      | 202/500 [00:16<00:23, 12.76it/s]"
     ]
    },
    {
     "name": "stdout",
     "output_type": "stream",
     "text": [
      "---201th round start---\n"
     ]
    },
    {
     "name": "stderr",
     "output_type": "stream",
     "text": [
      " 42%|████▏     | 208/500 [00:17<00:22, 13.00it/s]"
     ]
    },
    {
     "name": "stdout",
     "output_type": "stream",
     "text": [
      "Step:15000, train logrmse:0.09050535410642624, valid logrmse:0.1624620258808136\n"
     ]
    },
    {
     "name": "stderr",
     "output_type": "stream",
     "text": [
      " 50%|█████     | 252/500 [00:20<00:18, 13.34it/s]"
     ]
    },
    {
     "name": "stdout",
     "output_type": "stream",
     "text": [
      "---251th round start---\n"
     ]
    },
    {
     "name": "stderr",
     "output_type": "stream",
     "text": [
      " 55%|█████▌    | 276/500 [00:22<00:16, 13.18it/s]"
     ]
    },
    {
     "name": "stdout",
     "output_type": "stream",
     "text": [
      "Step:20000, train logrmse:0.0854841023683548, valid logrmse:0.1670057326555252\n"
     ]
    },
    {
     "name": "stderr",
     "output_type": "stream",
     "text": [
      " 60%|██████    | 302/500 [00:24<00:15, 12.86it/s]"
     ]
    },
    {
     "name": "stdout",
     "output_type": "stream",
     "text": [
      "---301th round start---\n"
     ]
    },
    {
     "name": "stderr",
     "output_type": "stream",
     "text": [
      " 69%|██████▉   | 344/500 [00:27<00:12, 12.86it/s]"
     ]
    },
    {
     "name": "stdout",
     "output_type": "stream",
     "text": [
      "Step:25000, train logrmse:0.07761896401643753, valid logrmse:0.1698838174343109\n"
     ]
    },
    {
     "name": "stderr",
     "output_type": "stream",
     "text": [
      " 70%|███████   | 352/500 [00:28<00:11, 13.15it/s]"
     ]
    },
    {
     "name": "stdout",
     "output_type": "stream",
     "text": [
      "---351th round start---\n"
     ]
    },
    {
     "name": "stderr",
     "output_type": "stream",
     "text": [
      " 80%|████████  | 402/500 [00:32<00:07, 13.28it/s]"
     ]
    },
    {
     "name": "stdout",
     "output_type": "stream",
     "text": [
      "---401th round start---\n"
     ]
    },
    {
     "name": "stderr",
     "output_type": "stream",
     "text": [
      " 82%|████████▏ | 412/500 [00:32<00:06, 13.23it/s]"
     ]
    },
    {
     "name": "stdout",
     "output_type": "stream",
     "text": [
      "Step:30000, train logrmse:0.07220405340194702, valid logrmse:0.17689871788024902\n"
     ]
    },
    {
     "name": "stderr",
     "output_type": "stream",
     "text": [
      " 90%|█████████ | 452/500 [00:35<00:03, 13.27it/s]"
     ]
    },
    {
     "name": "stdout",
     "output_type": "stream",
     "text": [
      "---451th round start---\n"
     ]
    },
    {
     "name": "stderr",
     "output_type": "stream",
     "text": [
      " 96%|█████████▋| 482/500 [00:38<00:01, 13.41it/s]"
     ]
    },
    {
     "name": "stdout",
     "output_type": "stream",
     "text": [
      "Step:35000, train logrmse:0.05962911620736122, valid logrmse:0.18072952330112457\n"
     ]
    },
    {
     "name": "stderr",
     "output_type": "stream",
     "text": [
      "100%|██████████| 500/500 [00:39<00:00, 12.68it/s]\n"
     ]
    }
   ],
   "source": [
    "# 初始化模型\n",
    "model = MLP(input_size, output_size)\n",
    "\n",
    "total_train_step = 0\n",
    "writer = SummaryWriter('logs_train')\n",
    "\n",
    "# 定义优化器\n",
    "optimizer = torch.optim.Adam(model.parameters(), lr=learning_rate, weight_decay=1e-3)\n",
    "\n",
    "# 训练模型\n",
    "for epoch in tqdm(range(epochs)):\n",
    "\n",
    "    if epoch % 50 == 0:\n",
    "        print(f'---{epoch+1}th round start---')\n",
    "\n",
    "    for batch_x, batch_y in train_loader:\n",
    "        batch_x = batch_x.float()\n",
    "        batch_y = batch_y.float()\n",
    "        # 前向传播\n",
    "        output = model(batch_x)\n",
    "        # 计算损失\n",
    "        optimizer.zero_grad()\n",
    "        loss = loss_fn(output, batch_y)\n",
    "        # print(loss.item())\n",
    "        # 反向传播\n",
    "        loss.backward()\n",
    "        optimizer.step()\n",
    "\n",
    "        total_train_step += 1\n",
    "        if total_train_step % 5000 == 0:\n",
    "            train_logrmse = log_rmse(model, train_features, train_labels)\n",
    "            valid_logrmse = log_rmse(model, valid_features, valid_labels)\n",
    "            print(f'Step:{total_train_step}, train logrmse:{train_logrmse}, valid logrmse:{valid_logrmse}')\n",
    "        if total_train_step % 500 == 0:\n",
    "            train_logrmse = log_rmse(model, train_features, train_labels)\n",
    "            valid_logrmse = log_rmse(model, valid_features, valid_labels)\n",
    "            writer.add_scalar('train_loss', train_logrmse, total_train_step)\n",
    "            writer.add_scalar('valid_loss', valid_logrmse, total_train_step)\n",
    "writer.close()"
   ]
  },
  {
   "cell_type": "code",
   "execution_count": 12,
   "metadata": {},
   "outputs": [],
   "source": [
    "preds = model(test_features.float()).detach().numpy()\n",
    "test['SalePrice'] = pd.Series(preds.reshape(1, -1)[0])\n",
    "submission = pd.concat([test['Id'], test['SalePrice']], axis=1)"
   ]
  },
  {
   "cell_type": "code",
   "execution_count": 13,
   "metadata": {},
   "outputs": [],
   "source": [
    "submission.to_csv('submission3.csv', index=False)"
   ]
  },
  {
   "cell_type": "code",
   "execution_count": null,
   "metadata": {},
   "outputs": [],
   "source": [
    "# 最后在kaggle上的得分大概是0.19，这里尝试了多种不同的网络与参数，结果都在0.19附近，模型收敛较快，增加训练次数只会导致过拟合，但实际效果一般。"
   ]
  }
 ],
 "metadata": {
  "kernelspec": {
   "display_name": "learning_d2l",
   "language": "python",
   "name": "python3"
  },
  "language_info": {
   "codemirror_mode": {
    "name": "ipython",
    "version": 3
   },
   "file_extension": ".py",
   "mimetype": "text/x-python",
   "name": "python",
   "nbconvert_exporter": "python",
   "pygments_lexer": "ipython3",
   "version": "3.9.20"
  }
 },
 "nbformat": 4,
 "nbformat_minor": 2
}
